{
 "cells": [
  {
   "cell_type": "code",
   "execution_count": 3,
   "id": "6ad1e130-cd89-40a5-8fd5-4dc3211f59c4",
   "metadata": {},
   "outputs": [
    {
     "name": "stdout",
     "output_type": "stream",
     "text": [
      "Text: 'paid water bill' -> Predicted category: bill\n",
      "Text: 'cab to airport' -> Predicted category: transportation\n",
      "Text: 'bought snacks' -> Predicted category: snacks\n",
      "Text: 't-shirt shopping' -> Predicted category: clothing\n"
     ]
    }
   ],
   "source": [
    "# classifier.py\n",
    "from sklearn.feature_extraction.text import CountVectorizer\n",
    "from sklearn.naive_bayes import MultinomialNB\n",
    "\n",
    "# Sample data for training\n",
    "train_inputs = [\n",
    "    \"paid water bill\", \n",
    "    \"cab to airport\", \n",
    "    \"bought snacks\", \n",
    "    \"t-shirt shopping\",\n",
    "    \"paid electricity bill\", \n",
    "    \"flight ticket booking\", \n",
    "    \"coffee with friends\", \n",
    "    \"grocery shopping\"\n",
    "]\n",
    "train_labels = [\n",
    "    \"bill\", \n",
    "    \"transportation\", \n",
    "    \"snacks\", \n",
    "    \"clothing\",\n",
    "    \"bill\", \n",
    "    \"transportation\", \n",
    "    \"snacks\", \n",
    "    \"groceries\"\n",
    "]\n",
    "\n",
    "# Initialize the vectorizer and model\n",
    "vectorizer = CountVectorizer()\n",
    "X_train = vectorizer.fit_transform(train_inputs)\n",
    "\n",
    "model = MultinomialNB()\n",
    "model.fit(X_train, train_labels)\n",
    "\n",
    "def predict_category(description):\n",
    "    \"\"\"\n",
    "    Predict the category for a given description using the trained Naïve Bayes model.\n",
    "    \"\"\"\n",
    "    X_desc = vectorizer.transform([description])\n",
    "    predicted_category = model.predict(X_desc)\n",
    "    return predicted_category[0]  # return the predicted category\n"
   ]
  },
  {
   "cell_type": "code",
   "execution_count": null,
   "id": "8b131dd0-234e-4022-a924-558b63fb261d",
   "metadata": {},
   "outputs": [],
   "source": []
  }
 ],
 "metadata": {
  "kernelspec": {
   "display_name": "Python 3 (ipykernel)",
   "language": "python",
   "name": "python3"
  },
  "language_info": {
   "codemirror_mode": {
    "name": "ipython",
    "version": 3
   },
   "file_extension": ".py",
   "mimetype": "text/x-python",
   "name": "python",
   "nbconvert_exporter": "python",
   "pygments_lexer": "ipython3",
   "version": "3.12.6"
  }
 },
 "nbformat": 4,
 "nbformat_minor": 5
}
